{
 "cells": [
  {
   "cell_type": "code",
   "execution_count": null,
   "id": "1cc5f071",
   "metadata": {},
   "outputs": [],
   "source": [
    "#load the dataset\n",
    "!kaggle datasets download -d shrutisaxena/yoga-pose-image-classification-dataset\n",
    "!unzip yoga-pose-image-classification-dataset.zip\n",
    "\n",
    "#We want to get joint data from the images"
   ]
  },
  {
   "cell_type": "code",
   "execution_count": null,
   "id": "0eb84695",
   "metadata": {},
   "outputs": [
    {
     "name": "stdout",
     "output_type": "stream",
     "text": [
      "<class 'mediapipe.python.solution_base.SolutionOutputs'>\n"
     ]
    },
    {
     "name": "stderr",
     "output_type": "stream",
     "text": [
      "I0000 00:00:1755111412.640802 2259491 gl_context.cc:369] GL version: 2.1 (2.1 Metal - 89.4), renderer: Apple M4\n",
      "W0000 00:00:1755111412.706943 2266061 inference_feedback_manager.cc:114] Feedback manager requires a model with a single signature inference. Disabling support for feedback tensors.\n",
      "W0000 00:00:1755111412.717697 2266067 inference_feedback_manager.cc:114] Feedback manager requires a model with a single signature inference. Disabling support for feedback tensors.\n"
     ]
    },
    {
     "data": {
      "image/png": "[encoded data removed]",
      "text/plain": [
       "<Figure size 640x480 with 1 Axes>"
      ]
     },
     "metadata": {},
     "output_type": "display_data"
    }
   ],
   "source": [
    "#for pose detection\n",
    "import mediapipe as mp \n",
    "\n",
    "#for image input output operations\n",
    "import matplotlib.pyplot as plt\n",
    "import matplotlib.image as pimg\n",
    "\n",
    "mp_pose = mp.solutions.pose.Pose(min_detection_confidence=0.7,\n",
    "                                 min_tracking_confidence=0.7)\n",
    "\n",
    "img = pimg.imread('dataset/upavistha konasana/2-0.png')\n",
    "plt.imshow(img)\n",
    "\n",
    "#detecting the object using mediapipe\n",
    "results = mp_pose.process(img.astype('uint8'))\n",
    "\n",
    "print(results)"
   ]
  }
 ],
 "metadata": {
  "kernelspec": {
   "display_name": ".venv",
   "language": "python",
   "name": "python3"
  },
  "language_info": {
   "codemirror_mode": {
    "name": "ipython",
    "version": 3
   },
   "file_extension": ".py",
   "mimetype": "text/x-python",
   "name": "python",
   "nbconvert_exporter": "python",
   "pygments_lexer": "ipython3",
   "version": "3.10.18"
  }
 },
 "nbformat": 4,
 "nbformat_minor": 5
}
