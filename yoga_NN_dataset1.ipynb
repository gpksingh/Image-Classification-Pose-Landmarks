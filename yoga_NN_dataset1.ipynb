{
 "cells": [
  {
   "cell_type": "code",
   "execution_count": 77,
   "id": "4cd7330d",
   "metadata": {},
   "outputs": [],
   "source": [
    "#Let's do load the csv file\n",
    "\n",
    "import pandas as pd\n",
    "import numpy as np\n",
    "\n",
    "import pandas as pd\n",
    "import numpy as np\n",
    "\n",
    "import pandas as pd\n",
    "import numpy as np\n",
    "\n",
    "df_train = pd.read_csv(\"training_yoga_keypoints.csv\")\n",
    "x_training = df_train.drop(columns=['label']).to_numpy()  # shape (num_samples, 99)\n",
    "y_training = df_train['label'].to_numpy()                # shape (num_samples,)\n",
    "\n",
    "df_val = pd.read_csv(\"validation_yoga_keypoints.csv\")\n",
    "x_validation = df_val.drop(columns=['label']).to_numpy()\n",
    "y_validation = df_val['label'].to_numpy()\n",
    "\n",
    "df_test = pd.read_csv(\"test_yoga_keypoints.csv\")\n",
    "x_test = df_test.drop(columns=['label']).to_numpy()\n",
    "y_test = df_test['label'].to_numpy()"
   ]
  },
  {
   "cell_type": "code",
   "execution_count": 78,
   "id": "f27b142f",
   "metadata": {},
   "outputs": [
    {
     "name": "stdout",
     "output_type": "stream",
     "text": [
      "[[ 0.1752743   0.06294911 -0.45937747 ...  0.43275037  0.55485898\n",
      "  -0.88090175]\n",
      " [ 0.50034279  0.25282669 -0.65206099 ...  0.85133868  0.88103694\n",
      "   0.6387949 ]\n",
      " [ 0.40947485  0.1871879  -0.12440712 ...  0.9495312   0.74824589\n",
      "  -0.06108706]\n",
      " ...\n",
      " [ 0.          0.          0.         ...  0.          0.\n",
      "   0.        ]\n",
      " [ 0.87985718  0.31518093 -0.07540067 ...  0.0586809   0.40043402\n",
      "  -0.27939883]\n",
      " [ 0.51123601  0.23986591 -0.70798784 ...  0.07142214  0.77903312\n",
      "   0.37377056]]\n"
     ]
    }
   ],
   "source": [
    "print(x_validation)"
   ]
  },
  {
   "cell_type": "code",
   "execution_count": 79,
   "id": "2b50ccea",
   "metadata": {},
   "outputs": [
    {
     "name": "stdout",
     "output_type": "stream",
     "text": [
      "X shape: (4196, 99)\n",
      "Y shape: (4196,)\n",
      "X val shape: (901, 99)\n",
      "Y val shape: (901,)\n"
     ]
    }
   ],
   "source": [
    "print(\"X shape:\", x_training.shape)       # should be (4196, 99)\n",
    "print(\"Y shape:\", y_training.shape)       # should be (4196,)\n",
    "print(\"X val shape:\", x_validation.shape)\n",
    "print(\"Y val shape:\", y_validation.shape)"
   ]
  },
  {
   "cell_type": "code",
   "execution_count": null,
   "id": "1fe130b9",
   "metadata": {},
   "outputs": [],
   "source": []
  },
  {
   "cell_type": "code",
   "execution_count": 88,
   "id": "080f210a",
   "metadata": {},
   "outputs": [
    {
     "name": "stdout",
     "output_type": "stream",
     "text": [
      "Epoch 1/100\n",
      "\u001b[1m132/132\u001b[0m \u001b[32m━━━━━━━━━━━━━━━━━━━━\u001b[0m\u001b[37m\u001b[0m \u001b[1m0s\u001b[0m 1ms/step - accuracy: 0.0439 - loss: 4.5325 - val_accuracy: 0.0799 - val_loss: 4.3121\n",
      "Epoch 2/100\n",
      "\u001b[1m132/132\u001b[0m \u001b[32m━━━━━━━━━━━━━━━━━━━━\u001b[0m\u001b[37m\u001b[0m \u001b[1m0s\u001b[0m 767us/step - accuracy: 0.1041 - loss: 4.0317 - val_accuracy: 0.1032 - val_loss: 3.9788\n",
      "Epoch 3/100\n",
      "\u001b[1m132/132\u001b[0m \u001b[32m━━━━━━━━━━━━━━━━━━━━\u001b[0m\u001b[37m\u001b[0m \u001b[1m0s\u001b[0m 762us/step - accuracy: 0.1501 - loss: 3.6999 - val_accuracy: 0.1287 - val_loss: 3.7642\n",
      "Epoch 4/100\n",
      "\u001b[1m132/132\u001b[0m \u001b[32m━━━━━━━━━━━━━━━━━━━━\u001b[0m\u001b[37m\u001b[0m \u001b[1m0s\u001b[0m 790us/step - accuracy: 0.1885 - loss: 3.4824 - val_accuracy: 0.1598 - val_loss: 3.6777\n",
      "Epoch 5/100\n",
      "\u001b[1m132/132\u001b[0m \u001b[32m━━━━━━━━━━━━━━━━━━━━\u001b[0m\u001b[37m\u001b[0m \u001b[1m0s\u001b[0m 800us/step - accuracy: 0.2147 - loss: 3.3304 - val_accuracy: 0.1643 - val_loss: 3.6080\n",
      "Epoch 6/100\n",
      "\u001b[1m132/132\u001b[0m \u001b[32m━━━━━━━━━━━━━━━━━━━━\u001b[0m\u001b[37m\u001b[0m \u001b[1m0s\u001b[0m 760us/step - accuracy: 0.2429 - loss: 3.1985 - val_accuracy: 0.1809 - val_loss: 3.5291\n",
      "Epoch 7/100\n",
      "\u001b[1m132/132\u001b[0m \u001b[32m━━━━━━━━━━━━━━━━━━━━\u001b[0m\u001b[37m\u001b[0m \u001b[1m0s\u001b[0m 754us/step - accuracy: 0.2598 - loss: 3.0769 - val_accuracy: 0.1976 - val_loss: 3.5347\n",
      "Epoch 8/100\n",
      "\u001b[1m132/132\u001b[0m \u001b[32m━━━━━━━━━━━━━━━━━━━━\u001b[0m\u001b[37m\u001b[0m \u001b[1m0s\u001b[0m 774us/step - accuracy: 0.2819 - loss: 2.9882 - val_accuracy: 0.2131 - val_loss: 3.4735\n",
      "Epoch 9/100\n",
      "\u001b[1m132/132\u001b[0m \u001b[32m━━━━━━━━━━━━━━━━━━━━\u001b[0m\u001b[37m\u001b[0m \u001b[1m0s\u001b[0m 922us/step - accuracy: 0.2979 - loss: 2.8941 - val_accuracy: 0.2098 - val_loss: 3.4489\n",
      "Epoch 10/100\n",
      "\u001b[1m132/132\u001b[0m \u001b[32m━━━━━━━━━━━━━━━━━━━━\u001b[0m\u001b[37m\u001b[0m \u001b[1m0s\u001b[0m 907us/step - accuracy: 0.3153 - loss: 2.8030 - val_accuracy: 0.2109 - val_loss: 3.5022\n",
      "Epoch 11/100\n",
      "\u001b[1m132/132\u001b[0m \u001b[32m━━━━━━━━━━━━━━━━━━━━\u001b[0m\u001b[37m\u001b[0m \u001b[1m0s\u001b[0m 894us/step - accuracy: 0.3265 - loss: 2.7368 - val_accuracy: 0.2053 - val_loss: 3.5041\n",
      "Epoch 12/100\n",
      "\u001b[1m132/132\u001b[0m \u001b[32m━━━━━━━━━━━━━━━━━━━━\u001b[0m\u001b[37m\u001b[0m \u001b[1m0s\u001b[0m 924us/step - accuracy: 0.3446 - loss: 2.6580 - val_accuracy: 0.2264 - val_loss: 3.4782\n",
      "Epoch 13/100\n",
      "\u001b[1m132/132\u001b[0m \u001b[32m━━━━━━━━━━━━━━━━━━━━\u001b[0m\u001b[37m\u001b[0m \u001b[1m0s\u001b[0m 853us/step - accuracy: 0.3649 - loss: 2.5933 - val_accuracy: 0.2309 - val_loss: 3.5064\n",
      "Epoch 14/100\n",
      "\u001b[1m132/132\u001b[0m \u001b[32m━━━━━━━━━━━━━━━━━━━━\u001b[0m\u001b[37m\u001b[0m \u001b[1m0s\u001b[0m 770us/step - accuracy: 0.3804 - loss: 2.5322 - val_accuracy: 0.2286 - val_loss: 3.5556\n",
      "Epoch 15/100\n",
      "\u001b[1m132/132\u001b[0m \u001b[32m━━━━━━━━━━━━━━━━━━━━\u001b[0m\u001b[37m\u001b[0m \u001b[1m0s\u001b[0m 800us/step - accuracy: 0.3858 - loss: 2.4701 - val_accuracy: 0.2386 - val_loss: 3.5501\n",
      "Epoch 16/100\n",
      "\u001b[1m132/132\u001b[0m \u001b[32m━━━━━━━━━━━━━━━━━━━━\u001b[0m\u001b[37m\u001b[0m \u001b[1m0s\u001b[0m 788us/step - accuracy: 0.3997 - loss: 2.4016 - val_accuracy: 0.2309 - val_loss: 3.5574\n",
      "Epoch 17/100\n",
      "\u001b[1m132/132\u001b[0m \u001b[32m━━━━━━━━━━━━━━━━━━━━\u001b[0m\u001b[37m\u001b[0m \u001b[1m0s\u001b[0m 760us/step - accuracy: 0.4116 - loss: 2.3365 - val_accuracy: 0.2353 - val_loss: 3.5761\n",
      "Epoch 18/100\n",
      "\u001b[1m132/132\u001b[0m \u001b[32m━━━━━━━━━━━━━━━━━━━━\u001b[0m\u001b[37m\u001b[0m \u001b[1m0s\u001b[0m 791us/step - accuracy: 0.4337 - loss: 2.2811 - val_accuracy: 0.2408 - val_loss: 3.6118\n",
      "Epoch 19/100\n",
      "\u001b[1m132/132\u001b[0m \u001b[32m━━━━━━━━━━━━━━━━━━━━\u001b[0m\u001b[37m\u001b[0m \u001b[1m0s\u001b[0m 848us/step - accuracy: 0.4485 - loss: 2.2312 - val_accuracy: 0.2420 - val_loss: 3.6379\n"
     ]
    },
    {
     "data": {
      "text/plain": [
       "<keras.src.callbacks.history.History at 0x17cae3be0>"
      ]
     },
     "execution_count": 88,
     "metadata": {},
     "output_type": "execute_result"
    }
   ],
   "source": [
    "import tensorflow as tf\n",
    "from tensorflow.keras import layers, models\n",
    "from tensorflow.keras.callbacks import EarlyStopping\n",
    "\n",
    "num_keypoints = 33\n",
    "feature_per_keypoints = 3 # potentially only have xyz\n",
    "input_dim = feature_per_keypoints * num_keypoints\n",
    "num_classes = 107\n",
    "\n",
    "model = models.Sequential([\n",
    "    layers.Input(shape=(99,)),\n",
    "    layers.Dense(256, activation='relu'),\n",
    "    layers.Dense(256, activation='relu'),\n",
    "    layers.Dense(num_classes, activation='softmax')\n",
    "])\n",
    "\n",
    "model.compile(\n",
    "    optimizer='adam',\n",
    "    loss = 'sparse_categorical_crossentropy',\n",
    "    metrics=['accuracy']\n",
    ")\n",
    "\n",
    "\n",
    "\n",
    "early_stop = EarlyStopping(monitor='val_loss', patience=10, restore_best_weights=True)\n",
    "model.fit(x_training, y_training, validation_data=(x_validation, y_validation),\n",
    "          epochs=100, callbacks=[early_stop])"
   ]
  },
  {
   "cell_type": "markdown",
   "id": "7bb14c4c",
   "metadata": {},
   "source": [
    "I want to turn this data I read from csv into a data for my nueral network."
   ]
  },
  {
   "cell_type": "code",
   "execution_count": null,
   "id": "1e075cca",
   "metadata": {},
   "outputs": [
    {
     "data": {
      "text/plain": [
       "array(['label', '49', '102', '21', '58', '8', '64', '25', '92', '44'],\n",
       "      dtype=object)"
      ]
     },
     "execution_count": 18,
     "metadata": {},
     "output_type": "execute_result"
    }
   ],
   "source": [
    "X_training[]"
   ]
  }
 ],
 "metadata": {
  "kernelspec": {
   "display_name": ".venv",
   "language": "python",
   "name": "python3"
  },
  "language_info": {
   "codemirror_mode": {
    "name": "ipython",
    "version": 3
   },
   "file_extension": ".py",
   "mimetype": "text/x-python",
   "name": "python",
   "nbconvert_exporter": "python",
   "pygments_lexer": "ipython3",
   "version": "3.10.18"
  }
 },
 "nbformat": 4,
 "nbformat_minor": 5
}
